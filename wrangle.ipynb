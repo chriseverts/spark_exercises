{
 "cells": [
  {
   "cell_type": "code",
   "execution_count": 1,
   "id": "e342bdf0",
   "metadata": {},
   "outputs": [],
   "source": [
    "from pyspark.sql import SparkSession\n",
    "from pyspark.sql.functions import *\n",
    "\n",
    "spark = SparkSession.builder.getOrCreate()"
   ]
  },
  {
   "cell_type": "markdown",
   "id": "dacbf26e",
   "metadata": {},
   "source": [
    "# This exercises uses the case.csv, dept.csv, and source.csv files from the san antonio 311 call dataset.\n",
    "\n",
    "1.) Read the case, department, and source data into their own spark dataframes."
   ]
  },
  {
   "cell_type": "code",
   "execution_count": 3,
   "id": "5ad6742e",
   "metadata": {},
   "outputs": [],
   "source": [
    "case = spark.read.csv(\"case.csv\", sep=\",\", header=True, inferSchema=True)"
   ]
  },
  {
   "cell_type": "code",
   "execution_count": 4,
   "id": "d276ffec",
   "metadata": {},
   "outputs": [
    {
     "name": "stdout",
     "output_type": "stream",
     "text": [
      "-RECORD 0----------------------------------------------------\n",
      " case_id              | 1014127332                           \n",
      " case_opened_date     | 1/1/18 0:42                          \n",
      " case_closed_date     | 1/1/18 12:29                         \n",
      " SLA_due_date         | 9/26/20 0:42                         \n",
      " case_late            | NO                                   \n",
      " num_days_late        | -998.5087616000001                   \n",
      " case_closed          | YES                                  \n",
      " dept_division        | Field Operations                     \n",
      " service_request_type | Stray Animal                         \n",
      " SLA_days             | 999.0                                \n",
      " case_status          | Closed                               \n",
      " source_id            | svcCRMLS                             \n",
      " request_address      | 2315  EL PASO ST, San Antonio, 78207 \n",
      " council_district     | 5                                    \n",
      "only showing top 1 row\n",
      "\n"
     ]
    }
   ],
   "source": [
    "case.show(1, vertical=True, truncate=False)"
   ]
  },
  {
   "cell_type": "code",
   "execution_count": 5,
   "id": "ae29dac8",
   "metadata": {},
   "outputs": [],
   "source": [
    "dpt = spark.read.csv(\"dept.csv\", sep=\",\", header=True, inferSchema=True)"
   ]
  },
  {
   "cell_type": "code",
   "execution_count": 6,
   "id": "40b669bf",
   "metadata": {},
   "outputs": [
    {
     "name": "stdout",
     "output_type": "stream",
     "text": [
      "-RECORD 0----------------------------------\n",
      " dept_division          | 311 Call Center  \n",
      " dept_name              | Customer Service \n",
      " standardized_dept_name | Customer Service \n",
      " dept_subject_to_SLA    | YES              \n",
      "only showing top 1 row\n",
      "\n"
     ]
    }
   ],
   "source": [
    "dpt.show(1, vertical=True, truncate=False)"
   ]
  },
  {
   "cell_type": "code",
   "execution_count": 7,
   "id": "db3f6a0b",
   "metadata": {},
   "outputs": [],
   "source": [
    "source = spark.read.csv(\"source.csv\", sep=\",\", header=True, inferSchema=True)"
   ]
  },
  {
   "cell_type": "code",
   "execution_count": 8,
   "id": "1a8ecfc3",
   "metadata": {},
   "outputs": [
    {
     "name": "stdout",
     "output_type": "stream",
     "text": [
      "-RECORD 0---------------------------\n",
      " source_id       | 100137           \n",
      " source_username | Merlene Blodgett \n",
      "only showing top 1 row\n",
      "\n"
     ]
    }
   ],
   "source": [
    "source.show(1, vertical = True, truncate=False)\n"
   ]
  },
  {
   "cell_type": "markdown",
   "id": "3fe533fb",
   "metadata": {},
   "source": [
    "# 2.) Let's see how writing to the local disk works in spark:\n",
    "Write the code necessary to store the source data in both csv and json format, store these as sources_csv and sources_json"
   ]
  },
  {
   "cell_type": "code",
   "execution_count": 9,
   "id": "525b3331",
   "metadata": {},
   "outputs": [],
   "source": [
    "source.write.json(\"sources_json\", mode=\"overwrite\")"
   ]
  },
  {
   "cell_type": "code",
   "execution_count": 10,
   "id": "cdb9ce5e",
   "metadata": {},
   "outputs": [],
   "source": [
    "source.write.csv(\"sources_csv\", mode=\"overwrite\")"
   ]
  },
  {
   "cell_type": "markdown",
   "id": "76b0b21e",
   "metadata": {},
   "source": [
    "Inspect your folder structure. What do you notice?"
   ]
  },
  {
   "cell_type": "markdown",
   "id": "fa7760fb",
   "metadata": {},
   "source": [
    "# 3.) Inspect the data in your dataframes. Are the data types appropriate? Write the code necessary to cast the values to the appropriate types.\n"
   ]
  },
  {
   "cell_type": "code",
   "execution_count": 11,
   "id": "5cfefb23",
   "metadata": {},
   "outputs": [
    {
     "name": "stdout",
     "output_type": "stream",
     "text": [
      "root\n",
      " |-- case_id: integer (nullable = true)\n",
      " |-- case_opened_date: string (nullable = true)\n",
      " |-- case_closed_date: string (nullable = true)\n",
      " |-- SLA_due_date: string (nullable = true)\n",
      " |-- case_late: string (nullable = true)\n",
      " |-- num_days_late: double (nullable = true)\n",
      " |-- case_closed: string (nullable = true)\n",
      " |-- dept_division: string (nullable = true)\n",
      " |-- service_request_type: string (nullable = true)\n",
      " |-- SLA_days: double (nullable = true)\n",
      " |-- case_status: string (nullable = true)\n",
      " |-- source_id: string (nullable = true)\n",
      " |-- request_address: string (nullable = true)\n",
      " |-- council_district: integer (nullable = true)\n",
      "\n"
     ]
    }
   ],
   "source": [
    "case.printSchema()"
   ]
  },
  {
   "cell_type": "code",
   "execution_count": 12,
   "id": "a14f5e92",
   "metadata": {},
   "outputs": [
    {
     "name": "stdout",
     "output_type": "stream",
     "text": [
      "root\n",
      " |-- dept_division: string (nullable = true)\n",
      " |-- dept_name: string (nullable = true)\n",
      " |-- standardized_dept_name: string (nullable = true)\n",
      " |-- dept_subject_to_SLA: string (nullable = true)\n",
      "\n"
     ]
    }
   ],
   "source": [
    "dpt.printSchema()"
   ]
  },
  {
   "cell_type": "code",
   "execution_count": 13,
   "id": "398b0f83",
   "metadata": {},
   "outputs": [
    {
     "name": "stdout",
     "output_type": "stream",
     "text": [
      "root\n",
      " |-- source_id: string (nullable = true)\n",
      " |-- source_username: string (nullable = true)\n",
      "\n"
     ]
    }
   ],
   "source": [
    "source.printSchema()"
   ]
  },
  {
   "cell_type": "markdown",
   "id": "751c2edd",
   "metadata": {},
   "source": [
    "# 1.) How old is the latest (in terms of days past SLA) currently open issue? How long has the oldest (in terms of days since opened) currently opened issue been open?"
   ]
  },
  {
   "cell_type": "code",
   "execution_count": 14,
   "id": "75d5cc96",
   "metadata": {},
   "outputs": [],
   "source": [
    "fmt = \"M/d/yy H:mm\"\n",
    "case = (\n",
    "    case.withColumn(\"case_opened_date\", to_timestamp(\"case_opened_date\", fmt))\n",
    "    .withColumn(\"case_closed_date\", to_timestamp(\"case_opened_date\", fmt))\n",
    "    .withColumn(\"case_due_date\", to_timestamp(\"case_opened_date\", fmt))\n",
    "    .withColumn(\"SLA_due_date\", to_timestamp(\"SLA_due_date\", fmt))\n",
    ")"
   ]
  },
  {
   "cell_type": "code",
   "execution_count": 15,
   "id": "88e5a9a1",
   "metadata": {},
   "outputs": [],
   "source": [
    "open_cases = (\n",
    "    case.filter(expr('case_closed == \"NO\"'))\n",
    "    .withColumn('days_past_SLA', datediff(current_timestamp(),'SLA_due_date'))\n",
    "    .withColumn('duration', datediff(current_timestamp(),'case_opened_date'))\n",
    ")"
   ]
  },
  {
   "cell_type": "code",
   "execution_count": 16,
   "id": "7c59deed",
   "metadata": {},
   "outputs": [
    {
     "name": "stdout",
     "output_type": "stream",
     "text": [
      "+------------------+\n",
      "|min(days_past_SLA)|\n",
      "+------------------+\n",
      "|              -200|\n",
      "+------------------+\n",
      "\n"
     ]
    }
   ],
   "source": [
    "#most recent \n",
    "open_cases.select(min('days_past_SLA')).show()"
   ]
  },
  {
   "cell_type": "code",
   "execution_count": 17,
   "id": "ba322da3",
   "metadata": {},
   "outputs": [
    {
     "name": "stdout",
     "output_type": "stream",
     "text": [
      "+-------------+\n",
      "|max(duration)|\n",
      "+-------------+\n",
      "|         1772|\n",
      "+-------------+\n",
      "\n"
     ]
    }
   ],
   "source": [
    "#oldest duration\n",
    "open_cases.select(max('duration')).show()"
   ]
  },
  {
   "cell_type": "markdown",
   "id": "ee2f7f40",
   "metadata": {},
   "source": [
    "2.) How many Stray Animal cases are there?"
   ]
  },
  {
   "cell_type": "code",
   "execution_count": 18,
   "id": "8afc1b6e",
   "metadata": {},
   "outputs": [
    {
     "data": {
      "text/plain": [
       "26760"
      ]
     },
     "execution_count": 18,
     "metadata": {},
     "output_type": "execute_result"
    }
   ],
   "source": [
    "case.where(expr(\n",
    "    'service_request_type==\"Stray Animal\"')).count()"
   ]
  },
  {
   "cell_type": "markdown",
   "id": "920b51a4",
   "metadata": {},
   "source": [
    "# 3.) How many service requests that are assigned to the Field Operations department (dept_division) are not classified as \"Officer Standby\" request type (service_request_type)?"
   ]
  },
  {
   "cell_type": "code",
   "execution_count": 19,
   "id": "b175f2d3",
   "metadata": {},
   "outputs": [
    {
     "data": {
      "text/plain": [
       "113902"
      ]
     },
     "execution_count": 19,
     "metadata": {},
     "output_type": "execute_result"
    }
   ],
   "source": [
    "#dept division is field operations and service request type is not officer standby\n",
    "(case.where(expr('dept_division == \"Field Operations\"'))\n",
    ".where(expr('service_request_type != \"Officer Standby\"'))).count()"
   ]
  },
  {
   "cell_type": "markdown",
   "id": "051eebb0",
   "metadata": {},
   "source": [
    "4.) Convert the council_district column to a string column."
   ]
  },
  {
   "cell_type": "code",
   "execution_count": 20,
   "id": "805575b2",
   "metadata": {},
   "outputs": [
    {
     "name": "stdout",
     "output_type": "stream",
     "text": [
      "+----------------+\n",
      "|council_district|\n",
      "+----------------+\n",
      "|               5|\n",
      "|               3|\n",
      "|               3|\n",
      "|               3|\n",
      "|               7|\n",
      "+----------------+\n",
      "only showing top 5 rows\n",
      "\n"
     ]
    }
   ],
   "source": [
    "case.select(case.council_district.cast('string')).show(5)"
   ]
  },
  {
   "cell_type": "code",
   "execution_count": 21,
   "id": "450de6af",
   "metadata": {},
   "outputs": [],
   "source": [
    "case = case.withColumn(\"council_district\",col(\"council_district\").cast(\"string\"))"
   ]
  },
  {
   "cell_type": "code",
   "execution_count": 22,
   "id": "c739d12d",
   "metadata": {},
   "outputs": [
    {
     "name": "stdout",
     "output_type": "stream",
     "text": [
      "root\n",
      " |-- case_id: integer (nullable = true)\n",
      " |-- case_opened_date: timestamp (nullable = true)\n",
      " |-- case_closed_date: timestamp (nullable = true)\n",
      " |-- SLA_due_date: timestamp (nullable = true)\n",
      " |-- case_late: string (nullable = true)\n",
      " |-- num_days_late: double (nullable = true)\n",
      " |-- case_closed: string (nullable = true)\n",
      " |-- dept_division: string (nullable = true)\n",
      " |-- service_request_type: string (nullable = true)\n",
      " |-- SLA_days: double (nullable = true)\n",
      " |-- case_status: string (nullable = true)\n",
      " |-- source_id: string (nullable = true)\n",
      " |-- request_address: string (nullable = true)\n",
      " |-- council_district: string (nullable = true)\n",
      " |-- case_due_date: timestamp (nullable = true)\n",
      "\n"
     ]
    }
   ],
   "source": [
    "case.printSchema()"
   ]
  },
  {
   "cell_type": "markdown",
   "id": "d280ddd7",
   "metadata": {},
   "source": [
    "5.) Extract the year from the case_closed_date column."
   ]
  },
  {
   "cell_type": "code",
   "execution_count": 23,
   "id": "14213e4f",
   "metadata": {},
   "outputs": [],
   "source": [
    "year = case.withColumn('year', year('case_closed_date'))"
   ]
  },
  {
   "cell_type": "code",
   "execution_count": 24,
   "id": "e464560b",
   "metadata": {},
   "outputs": [
    {
     "name": "stdout",
     "output_type": "stream",
     "text": [
      "+----+\n",
      "|year|\n",
      "+----+\n",
      "|2018|\n",
      "|2018|\n",
      "|2018|\n",
      "|2018|\n",
      "|2018|\n",
      "|2018|\n",
      "|2018|\n",
      "|2018|\n",
      "|2018|\n",
      "|2018|\n",
      "|2018|\n",
      "|2018|\n",
      "|2018|\n",
      "|2018|\n",
      "|2018|\n",
      "|2018|\n",
      "|2018|\n",
      "|2018|\n",
      "|2018|\n",
      "|2018|\n",
      "+----+\n",
      "only showing top 20 rows\n",
      "\n"
     ]
    }
   ],
   "source": [
    "year.select('year').show()"
   ]
  },
  {
   "cell_type": "markdown",
   "id": "d0fae046",
   "metadata": {},
   "source": [
    "# 6.) Convert num_days_late from days to hours in new columns num_hours_late"
   ]
  },
  {
   "cell_type": "code",
   "execution_count": 25,
   "id": "d0a39cec",
   "metadata": {},
   "outputs": [
    {
     "name": "stdout",
     "output_type": "stream",
     "text": [
      "+-------------------+-------------------+\n",
      "|      num_days_late|     num_hours_late|\n",
      "+-------------------+-------------------+\n",
      "| -998.5087616000001|     -23964.2102784|\n",
      "|-2.0126041669999997|-48.302500007999996|\n",
      "|       -3.022337963|      -72.536111112|\n",
      "|       -15.01148148|      -360.27555552|\n",
      "|0.37216435200000003|  8.931944448000001|\n",
      "+-------------------+-------------------+\n",
      "only showing top 5 rows\n",
      "\n"
     ]
    }
   ],
   "source": [
    "case = case.withColumn(\n",
    "    \"num_hours_late\", expr(\"num_days_late * 24 AS num_hours_late\")\n",
    ")\n",
    "\n",
    "case.select(\"num_days_late\", \"num_hours_late\").show(5)"
   ]
  },
  {
   "cell_type": "markdown",
   "id": "2f1ba651",
   "metadata": {},
   "source": [
    "7.) Join the case data with the source and department data."
   ]
  },
  {
   "cell_type": "code",
   "execution_count": 27,
   "id": "b2c86165",
   "metadata": {},
   "outputs": [],
   "source": [
    "df = case.join(source, on=case.source_id == source.source_id, how = 'left').drop(source.source_id)"
   ]
  },
  {
   "cell_type": "code",
   "execution_count": 28,
   "id": "d0ef4b3c",
   "metadata": {},
   "outputs": [],
   "source": [
    "df = df.join(dpt, on=df.dept_division == dpt.dept_division, how = 'left').drop(dpt.dept_division)"
   ]
  },
  {
   "cell_type": "code",
   "execution_count": 29,
   "id": "97653273",
   "metadata": {},
   "outputs": [
    {
     "name": "stdout",
     "output_type": "stream",
     "text": [
      "-RECORD 0--------------------------------------\n",
      " case_id                | 1014127332           \n",
      " case_opened_date       | 2018-01-01 00:42:00  \n",
      " case_closed_date       | 2018-01-01 00:42:00  \n",
      " SLA_due_date           | 2020-09-26 00:42:00  \n",
      " case_late              | NO                   \n",
      " num_days_late          | -998.5087616000001   \n",
      " case_closed            | YES                  \n",
      " dept_division          | Field Operations     \n",
      " service_request_type   | Stray Animal         \n",
      " SLA_days               | 999.0                \n",
      " case_status            | Closed               \n",
      " source_id              | svcCRMLS             \n",
      " request_address        | 2315  EL PASO ST,... \n",
      " council_district       | 5                    \n",
      " case_due_date          | 2018-01-01 00:42:00  \n",
      " num_hours_late         | -23964.2102784       \n",
      " source_username        | svcCRMLS             \n",
      " dept_name              | Animal Care Services \n",
      " standardized_dept_name | Animal Care Services \n",
      " dept_subject_to_SLA    | YES                  \n",
      "-RECORD 1--------------------------------------\n",
      " case_id                | 1014127333           \n",
      " case_opened_date       | 2018-01-01 00:46:00  \n",
      " case_closed_date       | 2018-01-01 00:46:00  \n",
      " SLA_due_date           | 2018-01-05 08:30:00  \n",
      " case_late              | NO                   \n",
      " num_days_late          | -2.0126041669999997  \n",
      " case_closed            | YES                  \n",
      " dept_division          | Storm Water          \n",
      " service_request_type   | Removal Of Obstru... \n",
      " SLA_days               | 4.322222222          \n",
      " case_status            | Closed               \n",
      " source_id              | svcCRMSS             \n",
      " request_address        | 2215  GOLIAD RD, ... \n",
      " council_district       | 3                    \n",
      " case_due_date          | 2018-01-01 00:46:00  \n",
      " num_hours_late         | -48.302500007999996  \n",
      " source_username        | svcCRMSS             \n",
      " dept_name              | Trans & Cap Impro... \n",
      " standardized_dept_name | Trans & Cap Impro... \n",
      " dept_subject_to_SLA    | YES                  \n",
      "only showing top 2 rows\n",
      "\n"
     ]
    }
   ],
   "source": [
    "df.show(2, vertical = True)"
   ]
  },
  {
   "cell_type": "markdown",
   "id": "971d10ed",
   "metadata": {},
   "source": [
    "# 8.) Are there any cases that do not have a request source?"
   ]
  },
  {
   "cell_type": "code",
   "execution_count": 30,
   "id": "44972ae3",
   "metadata": {},
   "outputs": [
    {
     "name": "stdout",
     "output_type": "stream",
     "text": [
      "(0 rows)\n",
      "\n"
     ]
    }
   ],
   "source": [
    "#no nulls\n",
    "df.filter(\"source_username is null\").show(vertical=True)"
   ]
  },
  {
   "cell_type": "markdown",
   "id": "d9a53a59",
   "metadata": {},
   "source": [
    "# 9.) What are the top 10 service request types in terms of number of requests?"
   ]
  },
  {
   "cell_type": "code",
   "execution_count": 31,
   "id": "7fe76d07",
   "metadata": {},
   "outputs": [
    {
     "name": "stdout",
     "output_type": "stream",
     "text": [
      "+--------------------+-----+\n",
      "|service_request_type|count|\n",
      "+--------------------+-----+\n",
      "|           No Pickup|89210|\n",
      "|Overgrown Yard/Trash|66403|\n",
      "|        Bandit Signs|32968|\n",
      "|        Damaged Cart|31163|\n",
      "|Front Or Side Yar...|28920|\n",
      "|        Stray Animal|27361|\n",
      "|Aggressive Animal...|25492|\n",
      "|Cart Exchange Req...|22608|\n",
      "|Junk Vehicle On P...|21649|\n",
      "|     Pot Hole Repair|20827|\n",
      "+--------------------+-----+\n",
      "only showing top 10 rows\n",
      "\n"
     ]
    }
   ],
   "source": [
    "df.groupby('service_request_type').count().sort(col('count').desc()).show(10)"
   ]
  },
  {
   "cell_type": "markdown",
   "id": "1ebd1458",
   "metadata": {},
   "source": [
    "# 10.) What are the top 10 service request types in terms of average days late?"
   ]
  },
  {
   "cell_type": "code",
   "execution_count": 32,
   "id": "ed47f937",
   "metadata": {},
   "outputs": [
    {
     "name": "stdout",
     "output_type": "stream",
     "text": [
      "-RECORD 0------------------------------------------------------\n",
      " case_id                | 1014127332                           \n",
      " case_opened_date       | 2018-01-01 00:42:00                  \n",
      " case_closed_date       | 2018-01-01 00:42:00                  \n",
      " SLA_due_date           | 2020-09-26 00:42:00                  \n",
      " case_late              | NO                                   \n",
      " num_days_late          | -998.5087616000001                   \n",
      " case_closed            | YES                                  \n",
      " dept_division          | Field Operations                     \n",
      " service_request_type   | Stray Animal                         \n",
      " SLA_days               | 999.0                                \n",
      " case_status            | Closed                               \n",
      " source_id              | svcCRMLS                             \n",
      " request_address        | 2315  EL PASO ST, San Antonio, 78207 \n",
      " council_district       | 5                                    \n",
      " case_due_date          | 2018-01-01 00:42:00                  \n",
      " num_hours_late         | -23964.2102784                       \n",
      " source_username        | svcCRMLS                             \n",
      " dept_name              | Animal Care Services                 \n",
      " standardized_dept_name | Animal Care Services                 \n",
      " dept_subject_to_SLA    | YES                                  \n",
      "only showing top 1 row\n",
      "\n"
     ]
    }
   ],
   "source": [
    "df.show(1, False, True)"
   ]
  },
  {
   "cell_type": "code",
   "execution_count": 33,
   "id": "bd17f703",
   "metadata": {},
   "outputs": [
    {
     "name": "stdout",
     "output_type": "stream",
     "text": [
      "+--------------------------------------+------------------+\n",
      "|service_request_type                  |avg(num_days_late)|\n",
      "+--------------------------------------+------------------+\n",
      "|Zoning: Recycle Yard                  |210.89201994318182|\n",
      "|Zoning: Junk Yards                    |200.20517608494276|\n",
      "|Structure/Housing Maintenance         |190.20707698509807|\n",
      "|Donation Container Enforcement        |171.09115313942615|\n",
      "|Storage of Used Mattress              |163.96812829714287|\n",
      "|Labeling for Used Mattress            |162.43032902285717|\n",
      "|Record Keeping of Used Mattresses     |153.99724039428568|\n",
      "|Signage Requied for Sale of Used Mattr|151.63868055333333|\n",
      "|Traffic Signal Graffiti               |137.64583330000002|\n",
      "|License Requied Used Mattress Sales   |128.79828704142858|\n",
      "+--------------------------------------+------------------+\n",
      "only showing top 10 rows\n",
      "\n"
     ]
    }
   ],
   "source": [
    "df.where('case_late==\"YES\"')\\\n",
    ".groupBy('service_request_type')\\\n",
    ".agg(mean('num_days_late'))\\\n",
    ".sort(desc('avg(num_days_late)'))\\\n",
    ".show(10, truncate=False)"
   ]
  },
  {
   "cell_type": "markdown",
   "id": "c0f23c07",
   "metadata": {},
   "source": [
    "# 11.) Does number of days late depend on department?"
   ]
  },
  {
   "cell_type": "code",
   "execution_count": 34,
   "id": "73fa7e4e",
   "metadata": {},
   "outputs": [
    {
     "name": "stdout",
     "output_type": "stream",
     "text": [
      "+------------------------+------------------+\n",
      "|standardized_dept_name  |avg(num_days_late)|\n",
      "+------------------------+------------------+\n",
      "|Customer Service        |88.18248182589822 |\n",
      "|DSD/Code Enforcement    |49.506339986350454|\n",
      "|Animal Care Services    |23.4467296347382  |\n",
      "|Parks & Recreation      |22.427807192724135|\n",
      "|Trans & Cap Improvements|10.662950455078674|\n",
      "|Solid Waste             |7.1471727895574135|\n",
      "|Metro Health            |6.494699602827871 |\n",
      "+------------------------+------------------+\n",
      "\n"
     ]
    }
   ],
   "source": [
    "df.where('case_late==\"YES\"')\\\n",
    ".groupBy('standardized_dept_name')\\\n",
    ".agg(mean('num_days_late'))\\\n",
    ".sort(desc('avg(num_days_late)'))\\\n",
    ".show(truncate=False)"
   ]
  },
  {
   "cell_type": "markdown",
   "id": "91d2fe0f",
   "metadata": {},
   "source": [
    "# 12.) How do number of days late depend on department and request type?"
   ]
  },
  {
   "cell_type": "code",
   "execution_count": 35,
   "id": "605b711a",
   "metadata": {},
   "outputs": [
    {
     "name": "stdout",
     "output_type": "stream",
     "text": [
      "+------------------------+----------------------------------------+------------------+\n",
      "|standardized_dept_name  |service_request_type                    |avg(num_days_late)|\n",
      "+------------------------+----------------------------------------+------------------+\n",
      "|DSD/Code Enforcement    |Zoning: Recycle Yard                    |210.89201994318182|\n",
      "|DSD/Code Enforcement    |Zoning: Junk Yards                      |200.20517608494276|\n",
      "|DSD/Code Enforcement    |Structure/Housing Maintenance           |190.20707698509807|\n",
      "|DSD/Code Enforcement    |Donation Container Enforcement          |171.09115313942615|\n",
      "|DSD/Code Enforcement    |Storage of Used Mattress                |163.96812829714287|\n",
      "|DSD/Code Enforcement    |Labeling for Used Mattress              |162.43032902285717|\n",
      "|DSD/Code Enforcement    |Record Keeping of Used Mattresses       |153.99724039428568|\n",
      "|DSD/Code Enforcement    |Signage Requied for Sale of Used Mattr  |151.63868055333333|\n",
      "|Trans & Cap Improvements|Traffic Signal Graffiti                 |137.64583330000002|\n",
      "|DSD/Code Enforcement    |License Requied Used Mattress Sales     |128.79828704142858|\n",
      "|DSD/Code Enforcement    |Curbstoning                             |118.553051384608  |\n",
      "|DSD/Code Enforcement    |Vendors                                 |117.653927527797  |\n",
      "|DSD/Code Enforcement    |CPS Energy Wood Poles                   |115.18708329999998|\n",
      "|DSD/Code Enforcement    |Graffiti: Private Property (Corridors)  |114.09439580800002|\n",
      "|DSD/Code Enforcement    |Used Mattress Inspection                |108.14074724718749|\n",
      "|DSD/Code Enforcement    |DSDB Ordered/Hold Harmless/Regular: Main|94.9029600898138  |\n",
      "|DSD/Code Enforcement    |DSDB Ordered/Hold Harmless/Regular-ALL  |90.60137650743478 |\n",
      "|DSD/Code Enforcement    |DSDB Ordered/Hold Harmless/Regular: ASEC|88.67873591760812 |\n",
      "|Customer Service        |Complaint                               |88.24283610330842 |\n",
      "|DSD/Code Enforcement    |Zoning: Setbacks                        |86.72783777095414 |\n",
      "+------------------------+----------------------------------------+------------------+\n",
      "only showing top 20 rows\n",
      "\n"
     ]
    }
   ],
   "source": [
    "df.where('case_late==\"YES\"')\\\n",
    ".groupBy('standardized_dept_name', 'service_request_type')\\\n",
    ".agg(mean('num_days_late'))\\\n",
    ".sort(desc('avg(num_days_late)'))\\\n",
    ".show(truncate=False)"
   ]
  },
  {
   "cell_type": "code",
   "execution_count": null,
   "id": "44803061",
   "metadata": {},
   "outputs": [],
   "source": []
  },
  {
   "cell_type": "code",
   "execution_count": null,
   "id": "52482887",
   "metadata": {},
   "outputs": [],
   "source": []
  },
  {
   "cell_type": "code",
   "execution_count": null,
   "id": "c16da42f",
   "metadata": {},
   "outputs": [],
   "source": []
  },
  {
   "cell_type": "code",
   "execution_count": null,
   "id": "da376156",
   "metadata": {},
   "outputs": [],
   "source": []
  },
  {
   "cell_type": "code",
   "execution_count": null,
   "id": "f71c9892",
   "metadata": {},
   "outputs": [],
   "source": []
  },
  {
   "cell_type": "code",
   "execution_count": null,
   "id": "d1ad9dd5",
   "metadata": {},
   "outputs": [],
   "source": []
  }
 ],
 "metadata": {
  "kernelspec": {
   "display_name": "Python 3",
   "language": "python",
   "name": "python3"
  },
  "language_info": {
   "codemirror_mode": {
    "name": "ipython",
    "version": 3
   },
   "file_extension": ".py",
   "mimetype": "text/x-python",
   "name": "python",
   "nbconvert_exporter": "python",
   "pygments_lexer": "ipython3",
   "version": "3.8.8"
  }
 },
 "nbformat": 4,
 "nbformat_minor": 5
}
