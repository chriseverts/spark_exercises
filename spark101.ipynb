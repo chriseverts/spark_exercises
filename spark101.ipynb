{
 "cells": [
  {
   "cell_type": "code",
   "execution_count": 7,
   "id": "0d9617af",
   "metadata": {},
   "outputs": [],
   "source": [
    "import pandas as pd\n",
    "import numpy as np\n",
    "\n",
    "from pydataset import data\n",
    "from pyspark.sql.functions import regexp_extract, regexp_replace\n",
    "from pyspark.sql.functions import *\n",
    "from pyspark.sql.functions import col, expr\n",
    "\n",
    "import pyspark\n",
    "\n",
    "spark = pyspark.sql.SparkSession.builder.getOrCreate()"
   ]
  },
  {
   "cell_type": "markdown",
   "id": "b68aa8ee",
   "metadata": {},
   "source": [
    "1.) Create a spark data frame that contains your favorite programming languages.\n",
    "The name of the column should be language\n",
    "View the schema of the dataframe\n",
    "Output the shape of the dataframe\n",
    "Show the first 5 records in the dataframe"
   ]
  },
  {
   "cell_type": "code",
   "execution_count": 2,
   "id": "28deb190",
   "metadata": {},
   "outputs": [],
   "source": [
    "pd_df = pd.DataFrame({'language': ['Python','JavaScript','Java','Jupyter','Nim','C++','R','sql']})"
   ]
  },
  {
   "cell_type": "code",
   "execution_count": 3,
   "id": "3517f8ae",
   "metadata": {},
   "outputs": [
    {
     "data": {
      "text/html": [
       "<div>\n",
       "<style scoped>\n",
       "    .dataframe tbody tr th:only-of-type {\n",
       "        vertical-align: middle;\n",
       "    }\n",
       "\n",
       "    .dataframe tbody tr th {\n",
       "        vertical-align: top;\n",
       "    }\n",
       "\n",
       "    .dataframe thead th {\n",
       "        text-align: right;\n",
       "    }\n",
       "</style>\n",
       "<table border=\"1\" class=\"dataframe\">\n",
       "  <thead>\n",
       "    <tr style=\"text-align: right;\">\n",
       "      <th></th>\n",
       "      <th>language</th>\n",
       "    </tr>\n",
       "  </thead>\n",
       "  <tbody>\n",
       "    <tr>\n",
       "      <th>0</th>\n",
       "      <td>Python</td>\n",
       "    </tr>\n",
       "    <tr>\n",
       "      <th>1</th>\n",
       "      <td>JavaScript</td>\n",
       "    </tr>\n",
       "    <tr>\n",
       "      <th>2</th>\n",
       "      <td>Java</td>\n",
       "    </tr>\n",
       "    <tr>\n",
       "      <th>3</th>\n",
       "      <td>Jupyter</td>\n",
       "    </tr>\n",
       "    <tr>\n",
       "      <th>4</th>\n",
       "      <td>Nim</td>\n",
       "    </tr>\n",
       "    <tr>\n",
       "      <th>5</th>\n",
       "      <td>C++</td>\n",
       "    </tr>\n",
       "    <tr>\n",
       "      <th>6</th>\n",
       "      <td>R</td>\n",
       "    </tr>\n",
       "    <tr>\n",
       "      <th>7</th>\n",
       "      <td>sql</td>\n",
       "    </tr>\n",
       "  </tbody>\n",
       "</table>\n",
       "</div>"
      ],
      "text/plain": [
       "     language\n",
       "0      Python\n",
       "1  JavaScript\n",
       "2        Java\n",
       "3     Jupyter\n",
       "4         Nim\n",
       "5         C++\n",
       "6           R\n",
       "7         sql"
      ]
     },
     "execution_count": 3,
     "metadata": {},
     "output_type": "execute_result"
    }
   ],
   "source": [
    "#that sure looks like the name of the column is language to me\n",
    "pd_df"
   ]
  },
  {
   "cell_type": "code",
   "execution_count": 8,
   "id": "93519165",
   "metadata": {},
   "outputs": [
    {
     "data": {
      "text/plain": [
       "DataFrame[language: string]"
      ]
     },
     "execution_count": 8,
     "metadata": {},
     "output_type": "execute_result"
    }
   ],
   "source": [
    "#turn it into a spark df\n",
    "df = spark.createDataFrame(pd_df)\n",
    "df"
   ]
  },
  {
   "cell_type": "code",
   "execution_count": 9,
   "id": "cb9a0b5f",
   "metadata": {},
   "outputs": [
    {
     "data": {
      "text/plain": [
       "StructType(List(StructField(language,StringType,true)))"
      ]
     },
     "execution_count": 9,
     "metadata": {},
     "output_type": "execute_result"
    }
   ],
   "source": [
    "#view schema\n",
    "df.schema"
   ]
  },
  {
   "cell_type": "code",
   "execution_count": 10,
   "id": "7e67b5a8",
   "metadata": {},
   "outputs": [
    {
     "name": "stdout",
     "output_type": "stream",
     "text": [
      "(8, 1)\n"
     ]
    }
   ],
   "source": [
    "#the shape\n",
    "print((df.count(), len(df.columns)))"
   ]
  },
  {
   "cell_type": "code",
   "execution_count": 11,
   "id": "f52c6e0b",
   "metadata": {},
   "outputs": [
    {
     "name": "stdout",
     "output_type": "stream",
     "text": [
      "+----------+\n",
      "|  language|\n",
      "+----------+\n",
      "|    Python|\n",
      "|JavaScript|\n",
      "|      Java|\n",
      "|   Jupyter|\n",
      "|       Nim|\n",
      "+----------+\n",
      "only showing top 5 rows\n",
      "\n"
     ]
    }
   ],
   "source": [
    "#the first 5 rows\n",
    "df.show(5)"
   ]
  },
  {
   "cell_type": "markdown",
   "id": "3bd1a9ab",
   "metadata": {},
   "source": [
    "2.) Load the mpg dataset as a spark dataframe.\n",
    "a.) Create 1 column of output that contains a message like the one below:\n",
    "The 1999 audi a4 has a 4 cylinder engine.\n",
    "\n",
    "for each vehicle"
   ]
  },
  {
   "cell_type": "code",
   "execution_count": 12,
   "id": "6681a5f3",
   "metadata": {},
   "outputs": [],
   "source": [
    "#bring in our mpg dataset as a spark dataframe\n",
    "mpg = spark.createDataFrame(data(\"mpg\"))"
   ]
  },
  {
   "cell_type": "code",
   "execution_count": 13,
   "id": "0c588421",
   "metadata": {},
   "outputs": [
    {
     "name": "stdout",
     "output_type": "stream",
     "text": [
      "+------------+------------------+-----+----+---+----------+---+---+---+---+-------+\n",
      "|manufacturer|             model|displ|year|cyl|     trans|drv|cty|hwy| fl|  class|\n",
      "+------------+------------------+-----+----+---+----------+---+---+---+---+-------+\n",
      "|        audi|                a4|  1.8|1999|  4|  auto(l5)|  f| 18| 29|  p|compact|\n",
      "|        audi|                a4|  1.8|1999|  4|manual(m5)|  f| 21| 29|  p|compact|\n",
      "|        audi|                a4|  2.0|2008|  4|manual(m6)|  f| 20| 31|  p|compact|\n",
      "|        audi|                a4|  2.0|2008|  4|  auto(av)|  f| 21| 30|  p|compact|\n",
      "|        audi|                a4|  2.8|1999|  6|  auto(l5)|  f| 16| 26|  p|compact|\n",
      "|        audi|                a4|  2.8|1999|  6|manual(m5)|  f| 18| 26|  p|compact|\n",
      "|        audi|                a4|  3.1|2008|  6|  auto(av)|  f| 18| 27|  p|compact|\n",
      "|        audi|        a4 quattro|  1.8|1999|  4|manual(m5)|  4| 18| 26|  p|compact|\n",
      "|        audi|        a4 quattro|  1.8|1999|  4|  auto(l5)|  4| 16| 25|  p|compact|\n",
      "|        audi|        a4 quattro|  2.0|2008|  4|manual(m6)|  4| 20| 28|  p|compact|\n",
      "|        audi|        a4 quattro|  2.0|2008|  4|  auto(s6)|  4| 19| 27|  p|compact|\n",
      "|        audi|        a4 quattro|  2.8|1999|  6|  auto(l5)|  4| 15| 25|  p|compact|\n",
      "|        audi|        a4 quattro|  2.8|1999|  6|manual(m5)|  4| 17| 25|  p|compact|\n",
      "|        audi|        a4 quattro|  3.1|2008|  6|  auto(s6)|  4| 17| 25|  p|compact|\n",
      "|        audi|        a4 quattro|  3.1|2008|  6|manual(m6)|  4| 15| 25|  p|compact|\n",
      "|        audi|        a6 quattro|  2.8|1999|  6|  auto(l5)|  4| 15| 24|  p|midsize|\n",
      "|        audi|        a6 quattro|  3.1|2008|  6|  auto(s6)|  4| 17| 25|  p|midsize|\n",
      "|        audi|        a6 quattro|  4.2|2008|  8|  auto(s6)|  4| 16| 23|  p|midsize|\n",
      "|   chevrolet|c1500 suburban 2wd|  5.3|2008|  8|  auto(l4)|  r| 14| 20|  r|    suv|\n",
      "|   chevrolet|c1500 suburban 2wd|  5.3|2008|  8|  auto(l4)|  r| 11| 15|  e|    suv|\n",
      "+------------+------------------+-----+----+---+----------+---+---+---+---+-------+\n",
      "only showing top 20 rows\n",
      "\n"
     ]
    }
   ],
   "source": [
    "#just checking\n",
    "mpg.show()"
   ]
  },
  {
   "cell_type": "code",
   "execution_count": 14,
   "id": "b8e2331a",
   "metadata": {},
   "outputs": [
    {
     "name": "stdout",
     "output_type": "stream",
     "text": [
      "+--------------------+\n",
      "|             Message|\n",
      "+--------------------+\n",
      "|The 1999 audi a4 ...|\n",
      "|The 1999 audi a4 ...|\n",
      "|The 2008 audi a4 ...|\n",
      "|The 2008 audi a4 ...|\n",
      "|The 1999 audi a4 ...|\n",
      "+--------------------+\n",
      "only showing top 5 rows\n",
      "\n"
     ]
    }
   ],
   "source": [
    "#create the message column\n",
    "mpg.select(concat(lit('The '), mpg.year, lit(' '), mpg.manufacturer, lit(' '), mpg.model, lit(' has a '), \n",
    "                mpg.cyl, lit(' cylinder engine.')).alias('Message')).show(5)"
   ]
  },
  {
   "cell_type": "markdown",
   "id": "2a8a8ee6",
   "metadata": {},
   "source": [
    "b.) Transform the trans column so that it only contains either manual or auto."
   ]
  },
  {
   "cell_type": "code",
   "execution_count": 15,
   "id": "694b8837",
   "metadata": {},
   "outputs": [
    {
     "name": "stdout",
     "output_type": "stream",
     "text": [
      "+----------+------------+\n",
      "|     trans|transmission|\n",
      "+----------+------------+\n",
      "|  auto(l5)|        auto|\n",
      "|manual(m5)|      manual|\n",
      "|manual(m6)|      manual|\n",
      "|  auto(av)|        auto|\n",
      "|  auto(l5)|        auto|\n",
      "|manual(m5)|      manual|\n",
      "|  auto(av)|        auto|\n",
      "|manual(m5)|      manual|\n",
      "|  auto(l5)|        auto|\n",
      "|manual(m6)|      manual|\n",
      "|  auto(s6)|        auto|\n",
      "|  auto(l5)|        auto|\n",
      "|manual(m5)|      manual|\n",
      "|  auto(s6)|        auto|\n",
      "|manual(m6)|      manual|\n",
      "|  auto(l5)|        auto|\n",
      "|  auto(s6)|        auto|\n",
      "|  auto(s6)|        auto|\n",
      "|  auto(l4)|        auto|\n",
      "|  auto(l4)|        auto|\n",
      "+----------+------------+\n",
      "only showing top 20 rows\n",
      "\n"
     ]
    }
   ],
   "source": [
    "\n",
    "#select trans column\n",
    "#replace contents in trans that start with special character, then some characters, to a special character being the last\n",
    "#replace with nothing\n",
    "#name the column \n",
    "#show\n",
    "mpg.select('trans',regexp_replace('trans', r'\\(\\w+\\)$', '').alias('transmission')).show()"
   ]
  },
  {
   "cell_type": "markdown",
   "id": "5086e8e7",
   "metadata": {},
   "source": [
    "3.) Load the tips dataset as a spark dataframe."
   ]
  },
  {
   "cell_type": "code",
   "execution_count": 16,
   "id": "e2fac450",
   "metadata": {},
   "outputs": [],
   "source": [
    "#tips data into spark dataframe\n",
    "tips = spark.createDataFrame(data(\"tips\"))"
   ]
  },
  {
   "cell_type": "markdown",
   "id": "195c599c",
   "metadata": {},
   "source": [
    "3a.) What percentage of observations are smokers?"
   ]
  },
  {
   "cell_type": "code",
   "execution_count": 17,
   "id": "88238a91",
   "metadata": {},
   "outputs": [
    {
     "data": {
      "text/plain": [
       "244"
      ]
     },
     "execution_count": 17,
     "metadata": {},
     "output_type": "execute_result"
    }
   ],
   "source": [
    "#total number of entries\n",
    "tips.count()"
   ]
  },
  {
   "cell_type": "code",
   "execution_count": 18,
   "id": "a5ec5e97",
   "metadata": {},
   "outputs": [
    {
     "data": {
      "text/plain": [
       "93"
      ]
     },
     "execution_count": 18,
     "metadata": {},
     "output_type": "execute_result"
    }
   ],
   "source": [
    "#the number of smokers\n",
    "tips.filter(tips.smoker == 'Yes').count()"
   ]
  },
  {
   "cell_type": "code",
   "execution_count": 19,
   "id": "2a02946f",
   "metadata": {},
   "outputs": [],
   "source": [
    "#smoker percentage will be the number of smokers divided by number of entries\n",
    "smoke_percentage = ((tips.filter(tips.smoker == 'Yes').count())/(tips.count()))*100"
   ]
  },
  {
   "cell_type": "code",
   "execution_count": 20,
   "id": "d2e9845a",
   "metadata": {},
   "outputs": [
    {
     "name": "stdout",
     "output_type": "stream",
     "text": [
      "The percentage of observations that are smokers is 38.114754098360656%\n"
     ]
    }
   ],
   "source": [
    "print(f'The percentage of observations that are smokers is {smoke_percentage}%')"
   ]
  },
  {
   "cell_type": "markdown",
   "id": "62064787",
   "metadata": {},
   "source": [
    "3b.) Create a column that contains the tip percentage"
   ]
  },
  {
   "cell_type": "code",
   "execution_count": 21,
   "id": "65bfaee4",
   "metadata": {},
   "outputs": [
    {
     "name": "stdout",
     "output_type": "stream",
     "text": [
      "+----------+-----+-----+\n",
      "|tip_amount| bill| tip%|\n",
      "+----------+-----+-----+\n",
      "|      1.01|16.99| 5.94|\n",
      "|      1.66|10.34|16.05|\n",
      "|       3.5|21.01|16.66|\n",
      "|      3.31|23.68|13.98|\n",
      "|      3.61|24.59|14.68|\n",
      "+----------+-----+-----+\n",
      "only showing top 5 rows\n",
      "\n"
     ]
    }
   ],
   "source": [
    "tip_percentage = round(((col(\"tip\") / col(\"total_bill\"))) * 100,2)\n",
    "\n",
    "tips.select(\n",
    "    col(\"tip\").alias(\"tip_amount\"),\n",
    "    tips.total_bill.alias(\"bill\"),\n",
    "    tip_percentage.alias(\"tip%\"),\n",
    ").show(5)"
   ]
  },
  {
   "cell_type": "code",
   "execution_count": 22,
   "id": "65bf3471",
   "metadata": {},
   "outputs": [],
   "source": [
    "#just select, put the calculation in, and give it an alias if you wish\n",
    "tips = tips.select('*', (tips.tip / tips.total_bill).alias('tip_pct'))"
   ]
  },
  {
   "cell_type": "code",
   "execution_count": 23,
   "id": "21b77fa5",
   "metadata": {},
   "outputs": [
    {
     "name": "stdout",
     "output_type": "stream",
     "text": [
      "+----------+----+------+------+---+------+----+-------------------+\n",
      "|total_bill| tip|   sex|smoker|day|  time|size|            tip_pct|\n",
      "+----------+----+------+------+---+------+----+-------------------+\n",
      "|     16.99|1.01|Female|    No|Sun|Dinner|   2|0.05944673337257211|\n",
      "|     10.34|1.66|  Male|    No|Sun|Dinner|   3|0.16054158607350097|\n",
      "|     21.01| 3.5|  Male|    No|Sun|Dinner|   3|0.16658733936220846|\n",
      "|     23.68|3.31|  Male|    No|Sun|Dinner|   2| 0.1397804054054054|\n",
      "|     24.59|3.61|Female|    No|Sun|Dinner|   4|0.14680764538430255|\n",
      "+----------+----+------+------+---+------+----+-------------------+\n",
      "only showing top 5 rows\n",
      "\n"
     ]
    }
   ],
   "source": [
    "#wow!\n",
    "tips.show(5)"
   ]
  },
  {
   "cell_type": "markdown",
   "id": "04be2e0c",
   "metadata": {},
   "source": [
    "3c.) Calculate the average tip percentage for each combination of sex and smoker."
   ]
  },
  {
   "cell_type": "code",
   "execution_count": 25,
   "id": "8b70c0ef",
   "metadata": {},
   "outputs": [
    {
     "name": "stdout",
     "output_type": "stream",
     "text": [
      "+------+------------------+-------------------+\n",
      "|   sex|                No|                Yes|\n",
      "+------+------------------+-------------------+\n",
      "|Female|0.1569209707691836|0.18215035269941032|\n",
      "|  Male|0.1606687151291298|0.15277117520248512|\n",
      "+------+------------------+-------------------+\n",
      "\n"
     ]
    }
   ],
   "source": [
    "#group by sex, and whether they smoke or not, then calculate the mean tip pct for each groups.\n",
    "tips.groupby('sex').pivot('smoker').mean('tip_pct').show()"
   ]
  },
  {
   "cell_type": "markdown",
   "id": "d7cc6194",
   "metadata": {},
   "source": [
    "4.) Use the seattle weather dataset referenced in the lesson to answer the questions below.¶"
   ]
  },
  {
   "cell_type": "code",
   "execution_count": 24,
   "id": "c590e35c",
   "metadata": {},
   "outputs": [
    {
     "name": "stdout",
     "output_type": "stream",
     "text": [
      "+----------+-------------+--------+--------+----+-------+\n",
      "|      date|precipitation|temp_max|temp_min|wind|weather|\n",
      "+----------+-------------+--------+--------+----+-------+\n",
      "|2012-01-01|          0.0|    12.8|     5.0| 4.7|drizzle|\n",
      "|2012-01-02|         10.9|    10.6|     2.8| 4.5|   rain|\n",
      "|2012-01-03|          0.8|    11.7|     7.2| 2.3|   rain|\n",
      "|2012-01-04|         20.3|    12.2|     5.6| 4.7|   rain|\n",
      "|2012-01-05|          1.3|     8.9|     2.8| 6.1|   rain|\n",
      "+----------+-------------+--------+--------+----+-------+\n",
      "only showing top 5 rows\n",
      "\n"
     ]
    }
   ],
   "source": [
    "#import data from vega\n",
    "from vega_datasets import data\n",
    "\n",
    "weather = data.seattle_weather().assign(date=lambda df: df.date.astype(str))\n",
    "weather = spark.createDataFrame(weather)\n",
    "weather.show(5)"
   ]
  },
  {
   "cell_type": "markdown",
   "id": "0ab97330",
   "metadata": {},
   "source": [
    "4a.) Convert the temperatures to fahrenheit."
   ]
  },
  {
   "cell_type": "code",
   "execution_count": 26,
   "id": "b05e9006",
   "metadata": {},
   "outputs": [],
   "source": [
    "#quick online search to convert celcius to fahrenheit\n",
    "def convert_temp(c):\n",
    "    '''\n",
    "    converts celcius to fahrenheit\n",
    "    '''\n",
    "    f = (c*(9/5)) +32\n",
    "    return f"
   ]
  },
  {
   "cell_type": "code",
   "execution_count": 27,
   "id": "50fae6b8",
   "metadata": {},
   "outputs": [],
   "source": [
    "#convert min temps and max temps to fahrenheit\n",
    "weather = weather.select('*', convert_temp(weather.temp_max).alias('new_temp_max'), convert_temp(weather.temp_min).alias('new_temp_min'))"
   ]
  },
  {
   "cell_type": "code",
   "execution_count": 28,
   "id": "c185d951",
   "metadata": {},
   "outputs": [
    {
     "name": "stdout",
     "output_type": "stream",
     "text": [
      "+----------+-------------+--------+--------+----+-------+------------------+------------+\n",
      "|      date|precipitation|temp_max|temp_min|wind|weather|      new_temp_max|new_temp_min|\n",
      "+----------+-------------+--------+--------+----+-------+------------------+------------+\n",
      "|2012-01-01|          0.0|    12.8|     5.0| 4.7|drizzle|55.040000000000006|        41.0|\n",
      "|2012-01-02|         10.9|    10.6|     2.8| 4.5|   rain|             51.08|       37.04|\n",
      "|2012-01-03|          0.8|    11.7|     7.2| 2.3|   rain|             53.06|       44.96|\n",
      "|2012-01-04|         20.3|    12.2|     5.6| 4.7|   rain|             53.96|       42.08|\n",
      "|2012-01-05|          1.3|     8.9|     2.8| 6.1|   rain|48.019999999999996|       37.04|\n",
      "+----------+-------------+--------+--------+----+-------+------------------+------------+\n",
      "only showing top 5 rows\n",
      "\n"
     ]
    }
   ],
   "source": [
    "weather.show(5)"
   ]
  },
  {
   "cell_type": "markdown",
   "id": "5487712c",
   "metadata": {},
   "source": [
    "4b.) Which month has the most rain, on average?"
   ]
  },
  {
   "cell_type": "code",
   "execution_count": 29,
   "id": "5104bc41",
   "metadata": {},
   "outputs": [],
   "source": [
    "#we're going to need these\n",
    "from pyspark.sql.functions import month, year, quarter"
   ]
  },
  {
   "cell_type": "code",
   "execution_count": 30,
   "id": "c9771a02",
   "metadata": {},
   "outputs": [
    {
     "name": "stdout",
     "output_type": "stream",
     "text": [
      "+-----+------------------+\n",
      "|month|    total_rainfall|\n",
      "+-----+------------------+\n",
      "|    7|              48.2|\n",
      "|    6|             132.9|\n",
      "|    8|             163.7|\n",
      "|    5|             207.5|\n",
      "|    9|235.49999999999997|\n",
      "|    4|             375.4|\n",
      "|    2|             422.0|\n",
      "|    1|465.99999999999994|\n",
      "|   10|             503.4|\n",
      "|    3|             606.2|\n",
      "|   12| 622.7000000000002|\n",
      "|   11|             642.5|\n",
      "+-----+------------------+\n",
      "\n"
     ]
    }
   ],
   "source": [
    "(\n",
    "    weather.withColumn(\"month\", month(\"date\"))\n",
    "    .groupBy(\"month\")\n",
    "    .agg(sum(\"precipitation\").alias(\"total_rainfall\"))\n",
    "    .sort(\"total_rainfall\")\n",
    "    .show()\n",
    ")"
   ]
  },
  {
   "cell_type": "markdown",
   "id": "2f4201f5",
   "metadata": {},
   "source": [
    "4c.) Which year was the windiest?"
   ]
  },
  {
   "cell_type": "code",
   "execution_count": 31,
   "id": "10c96c92",
   "metadata": {},
   "outputs": [
    {
     "name": "stdout",
     "output_type": "stream",
     "text": [
      "+----+------------------+\n",
      "|year|        total_wind|\n",
      "+----+------------------+\n",
      "|2013|1100.8000000000006|\n",
      "|2015|1153.3000000000002|\n",
      "|2014|1236.5000000000007|\n",
      "|2012|            1244.7|\n",
      "+----+------------------+\n",
      "\n"
     ]
    }
   ],
   "source": [
    "(\n",
    "    weather.withColumn(\"year\", year(\"date\"))\n",
    "    .groupBy(\"year\")\n",
    "    .agg(sum(\"wind\").alias(\"total_wind\"))\n",
    "    .sort(\"total_wind\")\n",
    "    .show()\n",
    ")"
   ]
  },
  {
   "cell_type": "markdown",
   "id": "6a590ffe",
   "metadata": {},
   "source": [
    "4d.) What is the most frequent type of weather in January?"
   ]
  },
  {
   "cell_type": "code",
   "execution_count": 32,
   "id": "d3aeb193",
   "metadata": {},
   "outputs": [],
   "source": [
    "weather = weather.withColumn('month', month('date'))"
   ]
  },
  {
   "cell_type": "code",
   "execution_count": 33,
   "id": "df8a3d12",
   "metadata": {},
   "outputs": [
    {
     "name": "stdout",
     "output_type": "stream",
     "text": [
      "+----------+-------------+--------+--------+----+-------+------------------+------------+-----+\n",
      "|      date|precipitation|temp_max|temp_min|wind|weather|      new_temp_max|new_temp_min|month|\n",
      "+----------+-------------+--------+--------+----+-------+------------------+------------+-----+\n",
      "|2012-01-01|          0.0|    12.8|     5.0| 4.7|drizzle|55.040000000000006|        41.0|    1|\n",
      "|2012-01-02|         10.9|    10.6|     2.8| 4.5|   rain|             51.08|       37.04|    1|\n",
      "|2012-01-03|          0.8|    11.7|     7.2| 2.3|   rain|             53.06|       44.96|    1|\n",
      "|2012-01-04|         20.3|    12.2|     5.6| 4.7|   rain|             53.96|       42.08|    1|\n",
      "|2012-01-05|          1.3|     8.9|     2.8| 6.1|   rain|48.019999999999996|       37.04|    1|\n",
      "+----------+-------------+--------+--------+----+-------+------------------+------------+-----+\n",
      "only showing top 5 rows\n",
      "\n"
     ]
    }
   ],
   "source": [
    "weather.show(5)"
   ]
  },
  {
   "cell_type": "code",
   "execution_count": 34,
   "id": "5c6ca593",
   "metadata": {},
   "outputs": [
    {
     "name": "stdout",
     "output_type": "stream",
     "text": [
      "+-------------+-------+---+----+----+---+\n",
      "|month_weather|drizzle|fog|rain|snow|sun|\n",
      "+-------------+-------+---+----+----+---+\n",
      "|            5|      1| 25|  16|   0| 82|\n",
      "|           10|      4| 55|  20|   0| 45|\n",
      "|            1|     10| 38|  35|   8| 33|\n",
      "|            6|      2| 14|  19|   0| 85|\n",
      "|            9|      5| 40|   4|   0| 71|\n",
      "|            2|      4| 36|  40|   3| 30|\n",
      "|           12|      2| 54|  23|   5| 40|\n",
      "|            7|      8| 13|  14|   0| 89|\n",
      "|            3|      3| 36|  37|   6| 42|\n",
      "|           11|      3| 50|  25|   0| 42|\n",
      "|            8|      8| 16|   6|   0| 94|\n",
      "|            4|      4| 34|  20|   1| 61|\n",
      "+-------------+-------+---+----+----+---+\n",
      "\n"
     ]
    }
   ],
   "source": [
    "weather.crosstab('month', 'weather').show()"
   ]
  },
  {
   "cell_type": "markdown",
   "id": "23871ecd",
   "metadata": {},
   "source": [
    "4e.) What is the average high and low temperature on sunny days in July in 2013 and 2014?"
   ]
  },
  {
   "cell_type": "code",
   "execution_count": 35,
   "id": "44c8175d",
   "metadata": {},
   "outputs": [],
   "source": [
    "weather = weather.withColumn('year', year('date'))"
   ]
  },
  {
   "cell_type": "code",
   "execution_count": 36,
   "id": "fb26c69f",
   "metadata": {},
   "outputs": [
    {
     "name": "stdout",
     "output_type": "stream",
     "text": [
      "+----------+-------------+--------+--------+----+-------+------------------+------------+-----+----+\n",
      "|      date|precipitation|temp_max|temp_min|wind|weather|      new_temp_max|new_temp_min|month|year|\n",
      "+----------+-------------+--------+--------+----+-------+------------------+------------+-----+----+\n",
      "|2012-01-01|          0.0|    12.8|     5.0| 4.7|drizzle|55.040000000000006|        41.0|    1|2012|\n",
      "|2012-01-02|         10.9|    10.6|     2.8| 4.5|   rain|             51.08|       37.04|    1|2012|\n",
      "|2012-01-03|          0.8|    11.7|     7.2| 2.3|   rain|             53.06|       44.96|    1|2012|\n",
      "|2012-01-04|         20.3|    12.2|     5.6| 4.7|   rain|             53.96|       42.08|    1|2012|\n",
      "|2012-01-05|          1.3|     8.9|     2.8| 6.1|   rain|48.019999999999996|       37.04|    1|2012|\n",
      "+----------+-------------+--------+--------+----+-------+------------------+------------+-----+----+\n",
      "only showing top 5 rows\n",
      "\n"
     ]
    }
   ],
   "source": [
    "weather.show(5)"
   ]
  },
  {
   "cell_type": "code",
   "execution_count": 37,
   "id": "ef13bb7e",
   "metadata": {},
   "outputs": [
    {
     "name": "stdout",
     "output_type": "stream",
     "text": [
      "+-------+------------------+------------------+\n",
      "|weather|              2013|              2014|\n",
      "+-------+------------------+------------------+\n",
      "|    fog| 22.96666666666667|25.439999999999998|\n",
      "|   rain|              22.2|              29.4|\n",
      "|    sun|26.585185185185193|            27.092|\n",
      "+-------+------------------+------------------+\n",
      "\n"
     ]
    }
   ],
   "source": [
    "weather.filter(expr(\n",
    "    '(year == 2013 OR year == 2014) AND month == 07')).groupby('weather').pivot('year').mean('temp_max').show()"
   ]
  },
  {
   "cell_type": "code",
   "execution_count": 38,
   "id": "7dc9cea4",
   "metadata": {},
   "outputs": [
    {
     "name": "stdout",
     "output_type": "stream",
     "text": [
      "+-------+------------------+------------------+\n",
      "|weather|              2013|              2014|\n",
      "+-------+------------------+------------------+\n",
      "|    fog|13.133333333333335|14.440000000000001|\n",
      "|   rain|              15.0|              15.0|\n",
      "|    sun|13.981481481481483|14.400000000000002|\n",
      "+-------+------------------+------------------+\n",
      "\n"
     ]
    }
   ],
   "source": [
    "weather.filter(expr(\n",
    "    '(year == 2013 OR year == 2014) AND month == 07')).groupby('weather').pivot('year').mean('temp_min').show()"
   ]
  },
  {
   "cell_type": "markdown",
   "id": "86b01230",
   "metadata": {},
   "source": [
    "Average low in July 2013 for sunny days is 13.98\n",
    "Average high in July 2013 for sunny days is 26.59\n",
    "\n",
    "Average low in July 2014 for sunny days is 14.40\n",
    "\n",
    "Average high in July 2014 for sunny days is 27.09"
   ]
  },
  {
   "cell_type": "markdown",
   "id": "53458549",
   "metadata": {},
   "source": [
    "4f.) What percentage of days were rainy in q3 of 2015?"
   ]
  },
  {
   "cell_type": "code",
   "execution_count": 39,
   "id": "5c6ebd89",
   "metadata": {},
   "outputs": [],
   "source": [
    "weather = weather.withColumn('quarter', quarter('date'))"
   ]
  },
  {
   "cell_type": "code",
   "execution_count": 40,
   "id": "9ffb6b88",
   "metadata": {},
   "outputs": [
    {
     "name": "stdout",
     "output_type": "stream",
     "text": [
      "+----------+-------------+--------+--------+----+-------+------------------+------------+-----+----+-------+\n",
      "|      date|precipitation|temp_max|temp_min|wind|weather|      new_temp_max|new_temp_min|month|year|quarter|\n",
      "+----------+-------------+--------+--------+----+-------+------------------+------------+-----+----+-------+\n",
      "|2012-01-01|          0.0|    12.8|     5.0| 4.7|drizzle|55.040000000000006|        41.0|    1|2012|      1|\n",
      "|2012-01-02|         10.9|    10.6|     2.8| 4.5|   rain|             51.08|       37.04|    1|2012|      1|\n",
      "|2012-01-03|          0.8|    11.7|     7.2| 2.3|   rain|             53.06|       44.96|    1|2012|      1|\n",
      "|2012-01-04|         20.3|    12.2|     5.6| 4.7|   rain|             53.96|       42.08|    1|2012|      1|\n",
      "|2012-01-05|          1.3|     8.9|     2.8| 6.1|   rain|48.019999999999996|       37.04|    1|2012|      1|\n",
      "+----------+-------------+--------+--------+----+-------+------------------+------------+-----+----+-------+\n",
      "only showing top 5 rows\n",
      "\n"
     ]
    }
   ],
   "source": [
    "weather.show(5)"
   ]
  },
  {
   "cell_type": "code",
   "execution_count": 41,
   "id": "208bd0fc",
   "metadata": {},
   "outputs": [],
   "source": [
    "rain_q3_2015 = weather.filter(expr('year == 2015 AND quarter == 3'))"
   ]
  },
  {
   "cell_type": "code",
   "execution_count": 42,
   "id": "d5a1de7a",
   "metadata": {},
   "outputs": [
    {
     "name": "stdout",
     "output_type": "stream",
     "text": [
      "+----------+-------------+--------+--------+----+-------+-----------------+-----------------+-----+----+-------+\n",
      "|      date|precipitation|temp_max|temp_min|wind|weather|     new_temp_max|     new_temp_min|month|year|quarter|\n",
      "+----------+-------------+--------+--------+----+-------+-----------------+-----------------+-----+----+-------+\n",
      "|2015-07-01|          0.0|    32.2|    17.2| 4.3|    sun|89.96000000000001|            62.96|    7|2015|      3|\n",
      "|2015-07-02|          0.0|    33.9|    17.8| 3.4|    sun|            93.02|64.03999999999999|    7|2015|      3|\n",
      "|2015-07-03|          0.0|    33.3|    17.8| 2.6|    sun|            91.94|64.03999999999999|    7|2015|      3|\n",
      "|2015-07-04|          0.0|    33.3|    15.0| 2.9|    sun|            91.94|             59.0|    7|2015|      3|\n",
      "|2015-07-05|          0.0|    32.8|    16.7| 2.1|    sun|91.03999999999999|            62.06|    7|2015|      3|\n",
      "+----------+-------------+--------+--------+----+-------+-----------------+-----------------+-----+----+-------+\n",
      "only showing top 5 rows\n",
      "\n"
     ]
    }
   ],
   "source": [
    "rain_q3_2015.show(5)"
   ]
  },
  {
   "cell_type": "code",
   "execution_count": 43,
   "id": "a9d683bc",
   "metadata": {},
   "outputs": [
    {
     "data": {
      "text/plain": [
       "0.021739130434782608"
      ]
     },
     "execution_count": 43,
     "metadata": {},
     "output_type": "execute_result"
    }
   ],
   "source": [
    "rain_q3_2015.where(rain_q3_2015.weather=='rain').count() / rain_q3_2015.count()"
   ]
  },
  {
   "cell_type": "markdown",
   "id": "ef4cecfc",
   "metadata": {},
   "source": [
    "4g.) For each year, find what percentage of days it rained (had non-zero precipitation)."
   ]
  },
  {
   "cell_type": "code",
   "execution_count": 44,
   "id": "e10e8baa",
   "metadata": {},
   "outputs": [
    {
     "name": "stdout",
     "output_type": "stream",
     "text": [
      "+------------+-------+---+----+----+---+\n",
      "|year_weather|drizzle|fog|rain|snow|sun|\n",
      "+------------+-------+---+----+----+---+\n",
      "|        2012|     31|  5| 191|  21|118|\n",
      "|        2013|     16| 82|  60|   2|205|\n",
      "|        2014|      0|151|   3|   0|211|\n",
      "|        2015|      7|173|   5|   0|180|\n",
      "+------------+-------+---+----+----+---+\n",
      "\n"
     ]
    }
   ],
   "source": [
    "weather.crosstab('year','weather').show()"
   ]
  },
  {
   "cell_type": "code",
   "execution_count": 45,
   "id": "9386caf8",
   "metadata": {},
   "outputs": [],
   "source": [
    "def percent_day_rain(string):\n",
    "    pct_rain = (weather.where(expr(string)).where(expr('precipitation > 0')).count()) / (weather.where(expr(string)).count())\n",
    "    return pct_rain"
   ]
  },
  {
   "cell_type": "code",
   "execution_count": 46,
   "id": "b35b15cd",
   "metadata": {},
   "outputs": [
    {
     "data": {
      "text/plain": [
       "0.48360655737704916"
      ]
     },
     "execution_count": 46,
     "metadata": {},
     "output_type": "execute_result"
    }
   ],
   "source": [
    "#2012\n",
    "percent_day_rain('year==2012')"
   ]
  },
  {
   "cell_type": "code",
   "execution_count": 47,
   "id": "99db93ef",
   "metadata": {},
   "outputs": [
    {
     "data": {
      "text/plain": [
       "0.41643835616438357"
      ]
     },
     "execution_count": 47,
     "metadata": {},
     "output_type": "execute_result"
    }
   ],
   "source": [
    "#2013\n",
    "percent_day_rain('year == 2013')"
   ]
  },
  {
   "cell_type": "code",
   "execution_count": 48,
   "id": "759b2f33",
   "metadata": {},
   "outputs": [
    {
     "data": {
      "text/plain": [
       "0.410958904109589"
      ]
     },
     "execution_count": 48,
     "metadata": {},
     "output_type": "execute_result"
    }
   ],
   "source": [
    "#2014\n",
    "percent_day_rain('year==2014')"
   ]
  },
  {
   "cell_type": "code",
   "execution_count": 49,
   "id": "f2d673d0",
   "metadata": {},
   "outputs": [
    {
     "data": {
      "text/plain": [
       "0.39452054794520547"
      ]
     },
     "execution_count": 49,
     "metadata": {},
     "output_type": "execute_result"
    }
   ],
   "source": [
    "#2015\n",
    "percent_day_rain('year==2015')"
   ]
  },
  {
   "cell_type": "code",
   "execution_count": null,
   "id": "8fb08d00",
   "metadata": {},
   "outputs": [],
   "source": []
  },
  {
   "cell_type": "code",
   "execution_count": null,
   "id": "2afa2594",
   "metadata": {},
   "outputs": [],
   "source": []
  }
 ],
 "metadata": {
  "kernelspec": {
   "display_name": "Python 3",
   "language": "python",
   "name": "python3"
  },
  "language_info": {
   "codemirror_mode": {
    "name": "ipython",
    "version": 3
   },
   "file_extension": ".py",
   "mimetype": "text/x-python",
   "name": "python",
   "nbconvert_exporter": "python",
   "pygments_lexer": "ipython3",
   "version": "3.8.8"
  }
 },
 "nbformat": 4,
 "nbformat_minor": 5
}
